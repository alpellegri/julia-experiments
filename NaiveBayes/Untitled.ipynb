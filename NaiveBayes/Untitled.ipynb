{
 "cells": [
  {
   "cell_type": "code",
   "execution_count": 3,
   "metadata": {
    "collapsed": false
   },
   "outputs": [
    {
     "name": "stdout",
     "output_type": "stream",
     "text": [
      "Accuracy: 1.0\n"
     ]
    }
   ],
   "source": [
    "using NaiveBayes\n",
    "using RDatasets\n",
    "using StatsBase\n",
    "\n",
    "# Example 1\n",
    "iris = dataset(\"datasets\", \"iris\")\n",
    "\n",
    "# observations in columns and variables in rows\n",
    "X = convert(Array, iris[:, 1:4])'\n",
    "p, n = size(X)\n",
    "# by default species is a PooledDataArray,\n",
    "y = [species for species in iris[:, 5]]\n",
    "\n",
    "# how much data use for training\n",
    "train_frac = 0.9\n",
    "k = floor(Int, train_frac * n)\n",
    "idxs = randperm(n)\n",
    "train = idxs[1:k]\n",
    "test = idxs[k+1:end]\n",
    "\n",
    "model = GaussianNB(unique(y), p)\n",
    "fit(model, X[:, train], y[train])\n",
    "\n",
    "accuracy = countnz(predict(model, X[:,test]) .== y[test]) / countnz(test)\n",
    "println(\"Accuracy: $accuracy\")\n",
    "\n"
   ]
  },
  {
   "cell_type": "code",
   "execution_count": 4,
   "metadata": {
    "collapsed": false
   },
   "outputs": [
    {
     "data": {
      "text/plain": [
       "150-element Array{String,1}:\n",
       " \"setosa\"   \n",
       " \"setosa\"   \n",
       " \"setosa\"   \n",
       " \"setosa\"   \n",
       " \"setosa\"   \n",
       " \"setosa\"   \n",
       " \"setosa\"   \n",
       " \"setosa\"   \n",
       " \"setosa\"   \n",
       " \"setosa\"   \n",
       " \"setosa\"   \n",
       " \"setosa\"   \n",
       " \"setosa\"   \n",
       " ⋮          \n",
       " \"virginica\"\n",
       " \"virginica\"\n",
       " \"virginica\"\n",
       " \"virginica\"\n",
       " \"virginica\"\n",
       " \"virginica\"\n",
       " \"virginica\"\n",
       " \"virginica\"\n",
       " \"virginica\"\n",
       " \"virginica\"\n",
       " \"virginica\"\n",
       " \"virginica\""
      ]
     },
     "execution_count": 4,
     "metadata": {},
     "output_type": "execute_result"
    }
   ],
   "source": [
    "y"
   ]
  },
  {
   "cell_type": "code",
   "execution_count": 2,
   "metadata": {
    "collapsed": false
   },
   "outputs": [
    {
     "data": {
      "text/plain": [
       "3-element Array{Int64,1}:\n",
       " 1\n",
       " 0\n",
       " 0"
      ]
     },
     "execution_count": 2,
     "metadata": {},
     "output_type": "execute_result"
    }
   ],
   "source": [
    "using NaiveBayes\n",
    "\n",
    "X = [1 1 0 2 1;\n",
    "     0 0 3 1 0;\n",
    "     1 0 1 0 2]\n",
    "\n",
    "y = [0, 1, 1, 0, 0]\n",
    "\n",
    "m = MultinomialNB(unique(y), 3)\n",
    "fit(m, X, y)\n",
    "\n",
    "\n",
    "Xtest = [0 4 1;\n",
    "         2 2 0;\n",
    "         1 1 1]\n",
    "\n",
    "predict(m, Xtest)"
   ]
  },
  {
   "cell_type": "code",
   "execution_count": null,
   "metadata": {
    "collapsed": true
   },
   "outputs": [],
   "source": []
  }
 ],
 "metadata": {
  "anaconda-cloud": {},
  "kernelspec": {
   "display_name": "Julia 0.5.0",
   "language": "julia",
   "name": "julia-0.5"
  },
  "language_info": {
   "file_extension": ".jl",
   "mimetype": "application/julia",
   "name": "julia",
   "version": "0.5.0"
  }
 },
 "nbformat": 4,
 "nbformat_minor": 1
}
