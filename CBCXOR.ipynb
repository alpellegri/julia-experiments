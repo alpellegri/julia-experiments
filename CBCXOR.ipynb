{
 "cells": [
  {
   "cell_type": "code",
   "execution_count": 3,
   "metadata": {},
   "outputs": [
    {
     "data": {
      "text/plain": [
       "10-element Array{UInt8,1}:\n",
       " 0x00\n",
       " 0x01\n",
       " 0x02\n",
       " 0x03\n",
       " 0x04\n",
       " 0x05\n",
       " 0x06\n",
       " 0x07\n",
       " 0x08\n",
       " 0x09"
      ]
     },
     "execution_count": 3,
     "metadata": {},
     "output_type": "execute_result"
    }
   ],
   "source": [
    "key = convert(UInt8, 30)\n",
    "plain = [convert(UInt8, x) for x in [0,1,2,3,4,5,6,7,8,9]]"
   ]
  },
  {
   "cell_type": "code",
   "execution_count": 4,
   "metadata": {},
   "outputs": [
    {
     "data": {
      "text/plain": [
       "DCBC (generic function with 1 method)"
      ]
     },
     "execution_count": 4,
     "metadata": {},
     "output_type": "execute_result"
    }
   ],
   "source": [
    "function ECBC(plain, key)\n",
    "    IV = convert(UInt8, 99)\n",
    "    cypher = [convert(UInt8, x) for x in zeros(length(plain))]\n",
    "\n",
    "    xor = IV\n",
    "    for i in 1:length(plain)\n",
    "        xor = (plain[i] ⊻ xor) ⊻ key\n",
    "        cypher[i] = xor\n",
    "    end\n",
    "    return cypher\n",
    "end\n",
    "\n",
    "function DCBC(cypher, key)\n",
    "    IV = convert(UInt8, 0)\n",
    "    plain = [convert(UInt8, x) for x in zeros(length(cypher))]\n",
    "\n",
    "    xor = IV\n",
    "    for i in 1:length(plain)\n",
    "        plain[i] = (cypher[i] ⊻ key) ⊻ xor\n",
    "        xor = cypher[i]\n",
    "    end\n",
    "    return plain\n",
    "end"
   ]
  },
  {
   "cell_type": "code",
   "execution_count": 5,
   "metadata": {},
   "outputs": [
    {
     "data": {
      "text/plain": [
       "10-element Array{UInt8,1}:\n",
       " 0x7d\n",
       " 0x62\n",
       " 0x7e\n",
       " 0x63\n",
       " 0x79\n",
       " 0x62\n",
       " 0x7a\n",
       " 0x63\n",
       " 0x75\n",
       " 0x62"
      ]
     },
     "execution_count": 5,
     "metadata": {},
     "output_type": "execute_result"
    }
   ],
   "source": [
    "cypher = ECBC(plain, key)"
   ]
  },
  {
   "cell_type": "code",
   "execution_count": 6,
   "metadata": {},
   "outputs": [
    {
     "data": {
      "text/plain": [
       "10-element Array{UInt8,1}:\n",
       " 0x63\n",
       " 0x01\n",
       " 0x02\n",
       " 0x03\n",
       " 0x04\n",
       " 0x05\n",
       " 0x06\n",
       " 0x07\n",
       " 0x08\n",
       " 0x09"
      ]
     },
     "execution_count": 6,
     "metadata": {},
     "output_type": "execute_result"
    }
   ],
   "source": [
    "decoded = DCBC(cypher, key)"
   ]
  },
  {
   "cell_type": "code",
   "execution_count": 7,
   "metadata": {},
   "outputs": [
    {
     "data": {
      "text/plain": [
       "DCRT (generic function with 1 method)"
      ]
     },
     "execution_count": 7,
     "metadata": {},
     "output_type": "execute_result"
    }
   ],
   "source": [
    "function ECRT(plain, key)\n",
    "    cypher = [convert(UInt8, x) for x in zeros(length(plain))]\n",
    "\n",
    "    crt = convert(UInt8, 0) + convert(UInt8, 33)\n",
    "    for i in 1:length(plain)\n",
    "        xor = crt ⊻ key\n",
    "        cypher[i] = xor ⊻ plain[i]\n",
    "        crt += convert(UInt8, 1)\n",
    "    end\n",
    "    return cypher\n",
    "end\n",
    "\n",
    "function DCRT(cypher, key)\n",
    "    plain = [convert(UInt8, x) for x in zeros(length(cypher))]\n",
    "\n",
    "    crt = convert(UInt8, 0) + convert(UInt8, 33)\n",
    "    for i in 1:length(plain)\n",
    "        xor = crt ⊻ key\n",
    "        plain[i] = xor ⊻ cypher[i]\n",
    "        crt += convert(UInt8, 1)\n",
    "    end\n",
    "    return plain\n",
    "end"
   ]
  },
  {
   "cell_type": "code",
   "execution_count": 8,
   "metadata": {},
   "outputs": [
    {
     "data": {
      "text/plain": [
       "10-element Array{UInt8,1}:\n",
       " 0x3f\n",
       " 0x3d\n",
       " 0x3f\n",
       " 0x39\n",
       " 0x3f\n",
       " 0x3d\n",
       " 0x3f\n",
       " 0x31\n",
       " 0x3f\n",
       " 0x3d"
      ]
     },
     "execution_count": 8,
     "metadata": {},
     "output_type": "execute_result"
    }
   ],
   "source": [
    "cypher = ECRT(plain, key)"
   ]
  },
  {
   "cell_type": "code",
   "execution_count": 9,
   "metadata": {},
   "outputs": [
    {
     "data": {
      "text/plain": [
       "10-element Array{UInt8,1}:\n",
       " 0x00\n",
       " 0x01\n",
       " 0x02\n",
       " 0x03\n",
       " 0x04\n",
       " 0x05\n",
       " 0x06\n",
       " 0x07\n",
       " 0x08\n",
       " 0x09"
      ]
     },
     "execution_count": 9,
     "metadata": {},
     "output_type": "execute_result"
    }
   ],
   "source": [
    "decoded = DCRT(cypher, key)"
   ]
  },
  {
   "cell_type": "code",
   "execution_count": null,
   "metadata": {},
   "outputs": [],
   "source": []
  }
 ],
 "metadata": {
  "kernelspec": {
   "display_name": "Julia 1.0.3 (4 threads)",
   "language": "julia",
   "name": "julia-1.0k"
  },
  "language_info": {
   "file_extension": ".jl",
   "mimetype": "application/julia",
   "name": "julia",
   "version": "1.0.3"
  }
 },
 "nbformat": 4,
 "nbformat_minor": 2
}
