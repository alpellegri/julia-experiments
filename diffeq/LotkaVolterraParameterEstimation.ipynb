{
 "cells": [
  {
   "cell_type": "markdown",
   "metadata": {},
   "source": [
    "# Parameter estimation of Lotka Volterra model using optimisation methods\n",
    "# Lotka-Volterra Parameter Estimation Benchmarks\n",
    "### Vaibhav Dixit, Chris Rackauckas"
   ]
  },
  {
   "cell_type": "code",
   "execution_count": 2,
   "metadata": {},
   "outputs": [
    {
     "data": {
      "text/plain": [
       "Plots.GRBackend()"
      ]
     },
     "execution_count": 2,
     "metadata": {},
     "output_type": "execute_result"
    }
   ],
   "source": [
    "using ParameterizedFunctions, OrdinaryDiffEq, DiffEqParamEstim, LinearAlgebra\n",
    "using BlackBoxOptim, NLopt, Plots, RecursiveArrayTools #, QuadDIRECT\n",
    "gr(fmt=:png)"
   ]
  },
  {
   "cell_type": "code",
   "execution_count": 3,
   "metadata": {},
   "outputs": [
    {
     "data": {
      "text/plain": [
       "4-element Array{Int64,1}:\n",
       " 5\n",
       " 5\n",
       " 5\n",
       " 5"
      ]
     },
     "execution_count": 3,
     "metadata": {},
     "output_type": "execute_result"
    }
   ],
   "source": [
    "loc_bounds = Tuple{Float64, Float64}[(0, 5), (0, 5), (0, 5), (0, 5)]\n",
    "glo_bounds = Tuple{Float64, Float64}[(0, 10), (0, 10), (0, 10), (0, 10)]\n",
    "loc_init = [1,0.5,3.5,1.5]\n",
    "glo_init = [5,5,5,5]"
   ]
  },
  {
   "cell_type": "code",
   "execution_count": 4,
   "metadata": {},
   "outputs": [
    {
     "name": "stdout",
     "output_type": "stream",
     "text": [
      "notime_tgrad = ModelingToolkit.Constant[ModelingToolkit.Constant(0), ModelingToolkit.Constant(0)]\n",
      "tgrad = ModelingToolkit.Constant[ModelingToolkit.Constant(0), ModelingToolkit.Constant(0)]\n"
     ]
    },
    {
     "data": {
      "text/plain": [
       "(::LotkaVolterraTest{var\"###ParameterizedDiffEqFunction#445\",var\"###ParameterizedTGradFunction#446\",var\"###ParameterizedJacobianFunction#447\",Nothing,Nothing,ModelingToolkit.ODESystem}) (generic function with 1 method)"
      ]
     },
     "execution_count": 4,
     "metadata": {},
     "output_type": "execute_result"
    }
   ],
   "source": [
    "f = @ode_def LotkaVolterraTest begin\n",
    "    dx = a*x - b*x*y\n",
    "    dy = -c*y + d*x*y\n",
    "end a b c d"
   ]
  },
  {
   "cell_type": "code",
   "execution_count": 5,
   "metadata": {},
   "outputs": [
    {
     "data": {
      "text/plain": [
       "\u001b[36mODEProblem\u001b[0m with uType \u001b[36mArray{Float64,1}\u001b[0m and tType \u001b[36mFloat64\u001b[0m. In-place: \u001b[36mtrue\u001b[0m\n",
       "timespan: (0.0, 3.0)\n",
       "u0: [1.0, 1.0]"
      ]
     },
     "execution_count": 5,
     "metadata": {},
     "output_type": "execute_result"
    }
   ],
   "source": [
    "u0 = [1.0,1.0]                          #initial values\n",
    "tspan = (0.0,10.0)\n",
    "p = [1.5,1.0,3.0,1,0]                   #parameters used, these need to be estimated from the data\n",
    "tspan = (0.0, 30.0)                     # sample of 3000 observations over the (0,30) timespan\n",
    "prob = ODEProblem(f, u0, tspan,p)\n",
    "tspan2 = (0.0, 3.0)                     # sample of 3000 observations over the (0,30) timespan\n",
    "prob_short = ODEProblem(f, u0, tspan2,p)"
   ]
  },
  {
   "cell_type": "code",
   "execution_count": 6,
   "metadata": {},
   "outputs": [
    {
     "data": {
      "text/plain": [
       "3001-element Array{Float64,1}:\n",
       "  0.0 \n",
       "  0.01\n",
       "  0.02\n",
       "  0.03\n",
       "  0.04\n",
       "  0.05\n",
       "  0.06\n",
       "  0.07\n",
       "  0.08\n",
       "  0.09\n",
       "  0.1 \n",
       "  0.11\n",
       "  0.12\n",
       "  ⋮   \n",
       " 29.89\n",
       " 29.9 \n",
       " 29.91\n",
       " 29.92\n",
       " 29.93\n",
       " 29.94\n",
       " 29.95\n",
       " 29.96\n",
       " 29.97\n",
       " 29.98\n",
       " 29.99\n",
       " 30.0 "
      ]
     },
     "execution_count": 6,
     "metadata": {},
     "output_type": "execute_result"
    }
   ],
   "source": [
    "dt = 30.0/3000\n",
    "tf = 30.0\n",
    "tinterval = 0:dt:tf\n",
    "t  = collect(tinterval)"
   ]
  },
  {
   "cell_type": "code",
   "execution_count": 7,
   "metadata": {},
   "outputs": [
    {
     "data": {
      "text/plain": [
       "301-element Array{Float64,1}:\n",
       " 0.0 \n",
       " 0.01\n",
       " 0.02\n",
       " 0.03\n",
       " 0.04\n",
       " 0.05\n",
       " 0.06\n",
       " 0.07\n",
       " 0.08\n",
       " 0.09\n",
       " 0.1 \n",
       " 0.11\n",
       " 0.12\n",
       " ⋮   \n",
       " 2.89\n",
       " 2.9 \n",
       " 2.91\n",
       " 2.92\n",
       " 2.93\n",
       " 2.94\n",
       " 2.95\n",
       " 2.96\n",
       " 2.97\n",
       " 2.98\n",
       " 2.99\n",
       " 3.0 "
      ]
     },
     "execution_count": 7,
     "metadata": {},
     "output_type": "execute_result"
    }
   ],
   "source": [
    "h = 0.01\n",
    "M = 300\n",
    "tstart = 0.0\n",
    "tstop = tstart + M * h\n",
    "tinterval_short = 0:h:tstop\n",
    "t_short = collect(tinterval_short)"
   ]
  },
  {
   "cell_type": "code",
   "execution_count": 8,
   "metadata": {},
   "outputs": [
    {
     "data": {
      "text/plain": [
       "2×3001 Array{Float64,2}:\n",
       " 1.0  1.00511   1.01045   1.01601   1.02179   …  1.07814   1.08595   1.09398 \n",
       " 1.0  0.980224  0.960888  0.941986  0.923508     0.785597  0.770673  0.756092"
      ]
     },
     "execution_count": 8,
     "metadata": {},
     "output_type": "execute_result"
    }
   ],
   "source": [
    "#Generate Data\n",
    "data_sol_short = solve(prob_short,Tsit5(),saveat=t_short,reltol=1e-9,abstol=1e-9)\n",
    "data_short = convert(Array, data_sol_short)\n",
    "data_sol = solve(prob,Tsit5(),saveat=t,reltol=1e-9,abstol=1e-9)\n",
    "data = convert(Array, data_sol)"
   ]
  },
  {
   "cell_type": "markdown",
   "metadata": {},
   "source": [
    "#### Plot of the solution\n",
    "\n",
    "##### Short Solution"
   ]
  },
  {
   "cell_type": "code",
   "execution_count": 9,
   "metadata": {},
   "outputs": [
    {
     "data": {
      "image/png": "[encoded data removed]"
     },
     "execution_count": 9,
     "metadata": {},
     "output_type": "execute_result"
    }
   ],
   "source": [
    "p1 = plot(data_sol_short)"
   ]
  },
  {
   "cell_type": "markdown",
   "metadata": {},
   "source": [
    "##### Longer Solution"
   ]
  },
  {
   "cell_type": "code",
   "execution_count": 10,
   "metadata": {},
   "outputs": [
    {
     "data": {
      "image/png": "[encoded data removed]"
     },
     "execution_count": 10,
     "metadata": {},
     "output_type": "execute_result"
    }
   ],
   "source": [
    "p2 = plot(data_sol)"
   ]
  },
  {
   "cell_type": "markdown",
   "metadata": {},
   "source": [
    "### Local Solution from the short data set"
   ]
  },
  {
   "cell_type": "code",
   "execution_count": 11,
   "metadata": {},
   "outputs": [
    {
     "name": "stdout",
     "output_type": "stream",
     "text": [
      "Starting optimization with optimizer DiffEvoOpt{FitPopulation{Float64},RadiusLimitedSelector,BlackBoxOptim.AdaptiveDiffEvoRandBin{3},RandomBound{ContinuousRectSearchSpace}}\n",
      "0.00 secs, 0 evals, 0 steps\n",
      "0.50 secs, 2737 evals, 2613 steps, improv/step: 0.205 (last = 0.2047), fitness=53.737396127\n",
      "1.00 secs, 5593 evals, 5470 steps, improv/step: 0.197 (last = 0.1901), fitness=0.138721946\n",
      "\n",
      "Optimization stopped after 7001 steps and 1.26 seconds\n",
      "Termination reason: Max number of steps (7000) reached\n",
      "Steps per second = 5569.61\n",
      "Function evals per second = 5667.46\n",
      "Improvements/step = 0.19014\n",
      "Total function evaluations = 7124\n",
      "\n",
      "\n",
      "Best candidate found: [1.49849, 1.00036, 3.00804, 1.00253]\n",
      "\n",
      "Fitness: 0.003429315\n",
      "\n"
     ]
    },
    {
     "data": {
      "text/plain": [
       "BlackBoxOptim.OptimizationResults(\"adaptive_de_rand_1_bin_radiuslimited\", \"Max number of steps (7000) reached\", 7001, 1.584806328393e9, 1.257000207901001, DictChain{Symbol,Any}[DictChain{Symbol,Any}[Dict{Symbol,Any}(:RngSeed => 44578,:SearchRange => Tuple{Float64,Float64}[(0.0, 10.0), (0.0, 10.0), (0.0, 10.0), (0.0, 10.0)],:MaxSteps => 7000),Dict{Symbol,Any}()],Dict{Symbol,Any}(:FitnessScheme => ScalarFitnessScheme{true}(),:NumDimensions => :NotSpecified,:PopulationSize => 50,:MaxTime => 0.0,:SearchRange => (-1.0, 1.0),:Method => :adaptive_de_rand_1_bin_radiuslimited,:MaxNumStepsWithoutFuncEvals => 100,:RngSeed => 1234,:MaxFuncEvals => 0,:SaveTrace => false…)], 7124, ScalarFitnessScheme{true}(), BlackBoxOptim.TopListArchiveOutput{Float64,Array{Float64,1}}(0.003429315316646572, [1.4984873486515715, 1.0003573237824641, 3.008043079564332, 1.0025286318302022]), BlackBoxOptim.PopulationOptimizerOutput{FitPopulation{Float64}}(FitPopulation{Float64}([1.5003063578740348 1.4974475525189748 … 1.5019263632255186 1.4995130417190208; 0.9991723093734055 0.9966860016529122 … 0.9986704197664941 0.9957636755082843; 2.9935216011881645 3.004270033319424 … 2.983136204294487 2.996217062090463; 0.9974765389205926 1.0014913790624356 … 0.9949768439001914 0.9982692760026906], NaN, [0.01729486409326827, 0.019617889733759584, 0.025187294094367155, 0.013604821325398546, 0.01704443639455387, 0.009409129597738175, 0.09777064939608161, 0.04149638624792098, 0.04078649027751014, 0.0848096853920183  …  0.015180136908402038, 0.019470342280562915, 0.008702821452949254, 0.06885909558048466, 0.00910555538312961, 0.021172261036632722, 0.029047875817968166, 0.033778195887482036, 0.015560758357926393, 0.03531965378201694], 0, BlackBoxOptim.Candidate{Float64}[BlackBoxOptim.Candidate{Float64}([1.5039197953736791, 1.0007001120206425, 2.9875680295651095, 0.9965226281165424], 26, 0.05701010109531645, BlackBoxOptim.AdaptiveDiffEvoRandBin{3}(BlackBoxOptim.AdaptiveDiffEvoParameters(BlackBoxOptim.BimodalCauchy(Distributions.Cauchy{Float64}(μ=0.65, σ=0.1), Distributions.Cauchy{Float64}(μ=1.0, σ=0.1), 0.5, false, true), BlackBoxOptim.BimodalCauchy(Distributions.Cauchy{Float64}(μ=0.1, σ=0.1), Distributions.Cauchy{Float64}(μ=0.95, σ=0.1), 0.5, false, true), [0.7483342966053832, 1.0, 0.6373669098282708, 0.8580597126029049, 1.0, 1.0, 0.8673600803471389, 0.7872410549290865, 0.8386914370425482, 1.0  …  0.573443366263803, 0.9912469350689432, 0.936287560134954, 1.0, 1.0, 1.0, 0.8713302089093152, 1.0, 1.0, 0.2174877222061259], [0.0765389315577749, 0.9140247356548473, 0.25349751587483393, 0.16875931077217898, 0.5587266646018713, 0.1506478143384245, 1.0, 0.2656167799150344, 0.6327608393452522, 0.10362664406215769  …  1.0, 0.05427176052898217, 1.0, 0.17508266168097314, 0.08351058525869148, 0.25664970610030946, 1.0, 0.08699147149940781, 1.0, 1.0])), 0), BlackBoxOptim.Candidate{Float64}([1.5039197953736791, 0.9885749813291991, 2.9875680295651095, 1.0000996067634675], 26, 1.1470599381440965, BlackBoxOptim.AdaptiveDiffEvoRandBin{3}(BlackBoxOptim.AdaptiveDiffEvoParameters(BlackBoxOptim.BimodalCauchy(Distributions.Cauchy{Float64}(μ=0.65, σ=0.1), Distributions.Cauchy{Float64}(μ=1.0, σ=0.1), 0.5, false, true), BlackBoxOptim.BimodalCauchy(Distributions.Cauchy{Float64}(μ=0.1, σ=0.1), Distributions.Cauchy{Float64}(μ=0.95, σ=0.1), 0.5, false, true), [0.7483342966053832, 1.0, 0.6373669098282708, 0.8580597126029049, 1.0, 1.0, 0.8673600803471389, 0.7872410549290865, 0.8386914370425482, 1.0  …  0.573443366263803, 0.9912469350689432, 0.936287560134954, 1.0, 1.0, 1.0, 0.8713302089093152, 1.0, 1.0, 0.2174877222061259], [0.0765389315577749, 0.9140247356548473, 0.25349751587483393, 0.16875931077217898, 0.5587266646018713, 0.1506478143384245, 1.0, 0.2656167799150344, 0.6327608393452522, 0.10362664406215769  …  1.0, 0.05427176052898217, 1.0, 0.17508266168097314, 0.08351058525869148, 0.25664970610030946, 1.0, 0.08699147149940781, 1.0, 1.0])), 0)])))"
      ]
     },
     "execution_count": 11,
     "metadata": {},
     "output_type": "execute_result"
    }
   ],
   "source": [
    "obj_short = build_loss_objective(prob_short,Tsit5(),L2Loss(t_short,data_short),tstops=t_short)\n",
    "res1 = bboptimize(obj_short;SearchRange = glo_bounds, MaxSteps = 7e3)\n",
    "# Lower tolerance could lead to smaller fitness (more accuracy)"
   ]
  },
  {
   "cell_type": "code",
   "execution_count": 12,
   "metadata": {},
   "outputs": [
    {
     "name": "stdout",
     "output_type": "stream",
     "text": [
      "Starting optimization with optimizer DiffEvoOpt{FitPopulation{Float64},RadiusLimitedSelector,BlackBoxOptim.AdaptiveDiffEvoRandBin{3},RandomBound{ContinuousRectSearchSpace}}\n",
      "0.00 secs, 0 evals, 0 steps\n",
      "0.50 secs, 3083 evals, 2971 steps, improv/step: 0.170 (last = 0.1696), fitness=51.252639682\n",
      "1.00 secs, 6368 evals, 6257 steps, improv/step: 0.165 (last = 0.1616), fitness=0.063765117\n",
      "\n",
      "Optimization stopped after 7001 steps and 1.13 seconds\n",
      "Termination reason: Max number of steps (7000) reached\n",
      "Steps per second = 6201.06\n",
      "Function evals per second = 6298.49\n",
      "Improvements/step = 0.16986\n",
      "Total function evaluations = 7111\n",
      "\n",
      "\n",
      "Best candidate found: [1.49982, 0.998836, 3.00052, 0.999963]\n",
      "\n",
      "Fitness: 0.003236980\n",
      "\n"
     ]
    },
    {
     "data": {
      "text/plain": [
       "BlackBoxOptim.OptimizationResults(\"adaptive_de_rand_1_bin_radiuslimited\", \"Max number of steps (7000) reached\", 7001, 1.5848064835e9, 1.128999948501587, DictChain{Symbol,Any}[DictChain{Symbol,Any}[Dict{Symbol,Any}(:RngSeed => 901496,:SearchRange => Tuple{Float64,Float64}[(0.0, 10.0), (0.0, 10.0), (0.0, 10.0), (0.0, 10.0)],:MaxSteps => 7000),Dict{Symbol,Any}()],Dict{Symbol,Any}(:FitnessScheme => ScalarFitnessScheme{true}(),:NumDimensions => :NotSpecified,:PopulationSize => 50,:MaxTime => 0.0,:SearchRange => (-1.0, 1.0),:Method => :adaptive_de_rand_1_bin_radiuslimited,:MaxNumStepsWithoutFuncEvals => 100,:RngSeed => 1234,:MaxFuncEvals => 0,:SaveTrace => false…)], 7111, ScalarFitnessScheme{true}(), BlackBoxOptim.TopListArchiveOutput{Float64,Array{Float64,1}}(0.003236980132433737, [1.4998160835544596, 0.9988364016231133, 3.0005246291513537, 0.9999630057110312]), BlackBoxOptim.PopulationOptimizerOutput{FitPopulation{Float64}}(FitPopulation{Float64}([1.4979939808597997 1.5034961421496733 … 1.5033492567970603 1.504958231765381; 0.9993683048226828 1.0027520253861997 … 0.9992791227850665 0.9971812757693291; 3.0085972297590615 2.9954716639743104 … 2.9875560947130007 2.9747254220011334; 1.0026286857227695 0.9982360772768242 … 0.9950371176359174 0.9908789736885517], NaN, [0.004390367788793545, 0.05182501205201865, 0.05442820394309413, 0.04613315049345453, 0.05859813155688413, 0.03361186394353117, 0.059355210544244086, 0.05853709528812111, 0.10061344808215227, 0.22458219746459396  …  1.5277678839776396, 0.015461806455472484, 0.48993992170263745, 0.34818654178072456, 0.23372415036195876, 0.22319457861891814, 0.003236980132433737, 0.007614963420523737, 0.031969507304263164, 0.07638205745523793], 0, BlackBoxOptim.Candidate{Float64}[BlackBoxOptim.Candidate{Float64}([1.5054560833838757, 1.0107647923131877, 2.985483440748413, 0.994490792572158], 23, 0.13941156300823596, BlackBoxOptim.AdaptiveDiffEvoRandBin{3}(BlackBoxOptim.AdaptiveDiffEvoParameters(BlackBoxOptim.BimodalCauchy(Distributions.Cauchy{Float64}(μ=0.65, σ=0.1), Distributions.Cauchy{Float64}(μ=1.0, σ=0.1), 0.5, false, true), BlackBoxOptim.BimodalCauchy(Distributions.Cauchy{Float64}(μ=0.1, σ=0.1), Distributions.Cauchy{Float64}(μ=0.95, σ=0.1), 0.5, false, true), [1.0, 1.0, 1.0, 0.10050316402587478, 1.0, 0.47465626581761644, 0.5872758938724872, 0.6903608274943556, 0.7608597163743511, 0.24570028989282855  …  1.0, 0.6085462390918245, 1.0, 0.5338593812747213, 1.0, 0.5476781207326407, 0.7621109144385038, 0.6231702368656556, 0.6131623220367414, 1.0], [0.9660963073033637, 0.17386714213057547, 0.974233340661707, 0.06761458521697347, 0.38582138298330415, 0.9448610392676104, 1.0, 0.7817896180291631, 0.21094855273025706, 1.0  …  1.0, 0.3830258682209148, 0.1388756845581974, 0.14457511377373794, 1.0, 0.8661394458685513, 0.9071519772911645, 0.27921648323086273, 0.987365006653308, 1.0])), 0), BlackBoxOptim.Candidate{Float64}([1.5054181632781702, 1.0154468278272664, 2.9886462075580034, 0.9966111521561577], 23, 0.3340030485200309, BlackBoxOptim.AdaptiveDiffEvoRandBin{3}(BlackBoxOptim.AdaptiveDiffEvoParameters(BlackBoxOptim.BimodalCauchy(Distributions.Cauchy{Float64}(μ=0.65, σ=0.1), Distributions.Cauchy{Float64}(μ=1.0, σ=0.1), 0.5, false, true), BlackBoxOptim.BimodalCauchy(Distributions.Cauchy{Float64}(μ=0.1, σ=0.1), Distributions.Cauchy{Float64}(μ=0.95, σ=0.1), 0.5, false, true), [1.0, 1.0, 1.0, 0.10050316402587478, 1.0, 0.47465626581761644, 0.5872758938724872, 0.6903608274943556, 0.7608597163743511, 0.24570028989282855  …  1.0, 0.6085462390918245, 1.0, 0.5338593812747213, 1.0, 0.5476781207326407, 0.7621109144385038, 0.6231702368656556, 0.6131623220367414, 1.0], [0.9660963073033637, 0.17386714213057547, 0.974233340661707, 0.06761458521697347, 0.38582138298330415, 0.9448610392676104, 1.0, 0.7817896180291631, 0.21094855273025706, 1.0  …  1.0, 0.3830258682209148, 0.1388756845581974, 0.14457511377373794, 1.0, 0.8661394458685513, 0.9071519772911645, 0.27921648323086273, 0.987365006653308, 1.0])), 0)])))"
      ]
     },
     "execution_count": 12,
     "metadata": {},
     "output_type": "execute_result"
    }
   ],
   "source": [
    "obj_short = build_loss_objective(prob_short,Tsit5(),L2Loss(t_short,data_short),tstops=t_short,reltol=1e-9)\n",
    "res1 = bboptimize(obj_short;SearchRange = glo_bounds, MaxSteps = 7e3)\n",
    "# Change in tolerance makes it worse"
   ]
  },
  {
   "cell_type": "code",
   "execution_count": 13,
   "metadata": {},
   "outputs": [
    {
     "name": "stdout",
     "output_type": "stream",
     "text": [
      "Starting optimization with optimizer DiffEvoOpt{FitPopulation{Float64},RadiusLimitedSelector,BlackBoxOptim.AdaptiveDiffEvoRandBin{3},RandomBound{ContinuousRectSearchSpace}}\n",
      "0.00 secs, 0 evals, 0 steps\n",
      "0.50 secs, 2022 evals, 1901 steps, improv/step: 0.185 (last = 0.1852), fitness=160.403742247\n",
      "1.00 secs, 4756 evals, 4635 steps, improv/step: 0.157 (last = 0.1375), fitness=3.706626762\n",
      "\n",
      "Optimization stopped after 7001 steps and 1.45 seconds\n",
      "Termination reason: Max number of steps (7000) reached\n",
      "Steps per second = 4828.28\n",
      "Function evals per second = 4911.03\n",
      "Improvements/step = 0.16286\n",
      "Total function evaluations = 7121\n",
      "\n",
      "\n",
      "Best candidate found: [1.49889, 0.999291, 2.99943, 1.00081]\n",
      "\n",
      "Fitness: 0.009641964\n",
      "\n"
     ]
    },
    {
     "data": {
      "text/plain": [
       "BlackBoxOptim.OptimizationResults(\"adaptive_de_rand_1_bin_radiuslimited\", \"Max number of steps (7000) reached\", 7001, 1.584806496394e9, 1.4500000476837158, DictChain{Symbol,Any}[DictChain{Symbol,Any}[Dict{Symbol,Any}(:RngSeed => 10765,:SearchRange => Tuple{Float64,Float64}[(0.0, 10.0), (0.0, 10.0), (0.0, 10.0), (0.0, 10.0)],:MaxSteps => 7000),Dict{Symbol,Any}()],Dict{Symbol,Any}(:FitnessScheme => ScalarFitnessScheme{true}(),:NumDimensions => :NotSpecified,:PopulationSize => 50,:MaxTime => 0.0,:SearchRange => (-1.0, 1.0),:Method => :adaptive_de_rand_1_bin_radiuslimited,:MaxNumStepsWithoutFuncEvals => 100,:RngSeed => 1234,:MaxFuncEvals => 0,:SaveTrace => false…)], 7121, ScalarFitnessScheme{true}(), BlackBoxOptim.TopListArchiveOutput{Float64,Array{Float64,1}}(0.00964196394657385, [1.4988865006457417, 0.9992911745749, 2.99943137916272, 1.0008060176885967]), BlackBoxOptim.PopulationOptimizerOutput{FitPopulation{Float64}}(FitPopulation{Float64}([1.5005235517390434 1.5113289222406625 … 1.4998990529139418 1.5019781234428715; 0.9987869233095596 1.0038417156353348 … 1.0027277808960602 0.9982440693032546; 2.995827046868246 2.946918933612101 … 3.00507795998113 2.9875555580353863; 0.9969053028319742 0.9840323728928451 … 1.0026231978700793 0.9951372046977324], NaN, [0.04496507430138802, 0.11291835951560969, 0.0099957004754312, 0.1279459749672083, 0.13934971300590873, 0.010463889454734846, 0.019487505254683336, 0.012881146200137238, 0.13241777667261312, 0.11521139596327806  …  0.04993764497520545, 0.0606222621753586, 0.0178778213303933, 0.11660231081489891, 0.051459253060185756, 0.03897994209400361, 0.032902003318320036, 0.00964196394657385, 0.03219340403931857, 0.025617884367153766], 0, BlackBoxOptim.Candidate{Float64}[BlackBoxOptim.Candidate{Float64}([1.4983290971589707, 1.0017488874430434, 3.0085162548519113, 1.0029527915829428], 38, 0.016564842626208182, BlackBoxOptim.AdaptiveDiffEvoRandBin{3}(BlackBoxOptim.AdaptiveDiffEvoParameters(BlackBoxOptim.BimodalCauchy(Distributions.Cauchy{Float64}(μ=0.65, σ=0.1), Distributions.Cauchy{Float64}(μ=1.0, σ=0.1), 0.5, false, true), BlackBoxOptim.BimodalCauchy(Distributions.Cauchy{Float64}(μ=0.1, σ=0.1), Distributions.Cauchy{Float64}(μ=0.95, σ=0.1), 0.5, false, true), [1.0, 0.7473829527422456, 0.37943181548414745, 0.4100410155216566, 1.0, 1.0, 1.0, 0.3600713866869375, 0.9508425954331597, 0.5851719686866768  …  0.5779858349362463, 1.0, 0.47699421991311475, 1.0, 0.1828871841252372, 0.7057313815404307, 0.9920653488461473, 1.0, 0.5602740676779852, 1.0], [1.0, 1.0, 0.8168402402390389, 0.8414039107220553, 0.16647505441756516, 0.17451961573580144, 1.0, 0.954076444247028, 1.0, 0.9371876311595464  …  0.8488972010952117, 0.20199116615158985, 0.023845467954303506, 0.9473231690081767, 0.8964013518247632, 1.0, 0.07183956461180353, 0.9646776158809243, 0.08035418265323939, 0.10824532273056627])), 0), BlackBoxOptim.Candidate{Float64}([1.501836550648986, 1.002385648444274, 2.9954570671750043, 1.000468752423909], 38, 0.07320134475708902, BlackBoxOptim.AdaptiveDiffEvoRandBin{3}(BlackBoxOptim.AdaptiveDiffEvoParameters(BlackBoxOptim.BimodalCauchy(Distributions.Cauchy{Float64}(μ=0.65, σ=0.1), Distributions.Cauchy{Float64}(μ=1.0, σ=0.1), 0.5, false, true), BlackBoxOptim.BimodalCauchy(Distributions.Cauchy{Float64}(μ=0.1, σ=0.1), Distributions.Cauchy{Float64}(μ=0.95, σ=0.1), 0.5, false, true), [1.0, 0.7473829527422456, 0.37943181548414745, 0.4100410155216566, 1.0, 1.0, 1.0, 0.3600713866869375, 0.9508425954331597, 0.5851719686866768  …  0.5779858349362463, 1.0, 0.47699421991311475, 1.0, 0.1828871841252372, 0.7057313815404307, 0.9920653488461473, 1.0, 0.5602740676779852, 1.0], [1.0, 1.0, 0.8168402402390389, 0.8414039107220553, 0.16647505441756516, 0.17451961573580144, 1.0, 0.954076444247028, 1.0, 0.9371876311595464  …  0.8488972010952117, 0.20199116615158985, 0.023845467954303506, 0.9473231690081767, 0.8964013518247632, 1.0, 0.07183956461180353, 0.9646776158809243, 0.08035418265323939, 0.10824532273056627])), 0)])))"
      ]
     },
     "execution_count": 13,
     "metadata": {},
     "output_type": "execute_result"
    }
   ],
   "source": [
    "obj_short = build_loss_objective(prob_short,Vern9(),L2Loss(t_short,data_short),tstops=t_short,reltol=1e-9,abstol=1e-9)\n",
    "res1 = bboptimize(obj_short;SearchRange = glo_bounds, MaxSteps = 7e3)\n",
    "# using the moe accurate Vern9() reduces the fitness marginally and leads to some increase in time taken"
   ]
  },
  {
   "cell_type": "markdown",
   "metadata": {},
   "source": [
    "# Using NLopt\n",
    "\n",
    "#### Global Optimisation first"
   ]
  },
  {
   "cell_type": "code",
   "execution_count": 14,
   "metadata": {},
   "outputs": [
    {
     "data": {
      "text/plain": [
       "(::DiffEqObjective{DiffEqParamEstim.var\"#43#48\"{Nothing,Bool,Int64,typeof(DiffEqParamEstim.STANDARD_PROB_GENERATOR),Base.Iterators.Pairs{Symbol,Any,Tuple{Symbol,Symbol,Symbol},NamedTuple{(:tstops, :reltol, :abstol),Tuple{Array{Float64,1},Float64,Float64}}},ODEProblem{Array{Float64,1},Tuple{Float64,Float64},true,Array{Float64,1},LotkaVolterraTest{var\"###ParameterizedDiffEqFunction#445\",var\"###ParameterizedTGradFunction#446\",var\"###ParameterizedJacobianFunction#447\",Nothing,Nothing,ModelingToolkit.ODESystem},Base.Iterators.Pairs{Union{},Union{},Tuple{},NamedTuple{(),Tuple{}}},DiffEqBase.StandardODEProblem},Vern9,L2Loss{Array{Float64,1},Array{Float64,2},Nothing,Nothing,Nothing},Nothing},DiffEqParamEstim.var\"#47#53\"{DiffEqParamEstim.var\"#43#48\"{Nothing,Bool,Int64,typeof(DiffEqParamEstim.STANDARD_PROB_GENERATOR),Base.Iterators.Pairs{Symbol,Any,Tuple{Symbol,Symbol,Symbol},NamedTuple{(:tstops, :reltol, :abstol),Tuple{Array{Float64,1},Float64,Float64}}},ODEProblem{Array{Float64,1},Tuple{Float64,Float64},true,Array{Float64,1},LotkaVolterraTest{var\"###ParameterizedDiffEqFunction#445\",var\"###ParameterizedTGradFunction#446\",var\"###ParameterizedJacobianFunction#447\",Nothing,Nothing,ModelingToolkit.ODESystem},Base.Iterators.Pairs{Union{},Union{},Tuple{},NamedTuple{(),Tuple{}}},DiffEqBase.StandardODEProblem},Vern9,L2Loss{Array{Float64,1},Array{Float64,2},Nothing,Nothing,Nothing},Nothing}}}) (generic function with 2 methods)"
      ]
     },
     "execution_count": 14,
     "metadata": {},
     "output_type": "execute_result"
    }
   ],
   "source": [
    "obj_short = build_loss_objective(prob_short,Vern9(),L2Loss(t_short,data_short),tstops=t_short,reltol=1e-9,abstol=1e-9)"
   ]
  },
  {
   "cell_type": "code",
   "execution_count": 15,
   "metadata": {},
   "outputs": [
    {
     "name": "stdout",
     "output_type": "stream",
     "text": [
      "  0.722303 seconds (1.62 M allocations: 378.377 MiB, 6.14% gc time)\n"
     ]
    },
    {
     "data": {
      "text/plain": [
       "(368.38768828453067, [1.7283950617224937, 2.22222222222419, 3.580246913586148, 1.1172077427280471], :XTOL_REACHED)"
      ]
     },
     "execution_count": 15,
     "metadata": {},
     "output_type": "execute_result"
    }
   ],
   "source": [
    "opt = Opt(:GN_ORIG_DIRECT_L, 4)\n",
    "lower_bounds!(opt,[0.0,0.0,0.0,0.0])\n",
    "upper_bounds!(opt,[10.0,10.0,10.0,10.0])\n",
    "min_objective!(opt, obj_short.cost_function2)\n",
    "xtol_rel!(opt,1e-12)\n",
    "maxeval!(opt, 10000)\n",
    "@time (minf,minx,ret) = NLopt.optimize(opt,glo_init)"
   ]
  },
  {
   "cell_type": "code",
   "execution_count": 16,
   "metadata": {},
   "outputs": [
    {
     "name": "stderr",
     "output_type": "stream",
     "text": [
      "┌ Warning: Interrupted. Larger maxiters is needed.\n",
      "└ @ DiffEqBase C:\\Users\\aless\\.julia\\packages\\DiffEqBase\\ytZvl\\src\\integrator_interface.jl:329\n",
      "┌ Warning: dt <= dtmin. Aborting. There is either an error in your model specification or the true solution is unstable.\n",
      "└ @ DiffEqBase C:\\Users\\aless\\.julia\\packages\\DiffEqBase\\ytZvl\\src\\integrator_interface.jl:343\n",
      "┌ Warning: dt <= dtmin. Aborting. There is either an error in your model specification or the true solution is unstable.\n",
      "└ @ DiffEqBase C:\\Users\\aless\\.julia\\packages\\DiffEqBase\\ytZvl\\src\\integrator_interface.jl:343\n"
     ]
    },
    {
     "name": "stdout",
     "output_type": "stream",
     "text": [
      "  1.666629 seconds (3.20 M allocations: 742.612 MiB, 4.37% gc time)\n"
     ]
    },
    {
     "name": "stderr",
     "output_type": "stream",
     "text": [
      "┌ Warning: dt <= dtmin. Aborting. There is either an error in your model specification or the true solution is unstable.\n",
      "└ @ DiffEqBase C:\\Users\\aless\\.julia\\packages\\DiffEqBase\\ytZvl\\src\\integrator_interface.jl:343\n"
     ]
    },
    {
     "data": {
      "text/plain": [
       "(1.6661036081622402e-16, [1.5000000000703442, 1.0000000000851745, 2.9999999995066617, 0.9999999999249853], :XTOL_REACHED)"
      ]
     },
     "execution_count": 16,
     "metadata": {},
     "output_type": "execute_result"
    }
   ],
   "source": [
    "opt = Opt(:GN_CRS2_LM, 4)\n",
    "lower_bounds!(opt,[0.0,0.0,0.0,0.0])\n",
    "upper_bounds!(opt,[10.0,10.0,10.0,10.0])\n",
    "min_objective!(opt, obj_short.cost_function2)\n",
    "xtol_rel!(opt,1e-12)\n",
    "maxeval!(opt, 10000)\n",
    "@time (minf,minx,ret) = NLopt.optimize(opt,glo_init)"
   ]
  },
  {
   "cell_type": "code",
   "execution_count": 17,
   "metadata": {},
   "outputs": [
    {
     "name": "stdout",
     "output_type": "stream",
     "text": [
      "  1.737955 seconds (4.09 M allocations: 966.263 MiB, 4.72% gc time)\n"
     ]
    },
    {
     "data": {
      "text/plain": [
       "(20.6620999220374, [1.3544655998121184, 0.9464301921767058, 3.739865058351026, 1.271820068469745], :MAXEVAL_REACHED)"
      ]
     },
     "execution_count": 17,
     "metadata": {},
     "output_type": "execute_result"
    }
   ],
   "source": [
    "opt = Opt(:GN_ISRES, 4)\n",
    "lower_bounds!(opt,[0.0,0.0,0.0,0.0])\n",
    "upper_bounds!(opt,[10.0,10.0,10.0,10.0])\n",
    "min_objective!(opt, obj_short.cost_function2)\n",
    "xtol_rel!(opt,1e-12)\n",
    "maxeval!(opt, 10000)\n",
    "@time (minf,minx,ret) = NLopt.optimize(opt,glo_init)"
   ]
  },
  {
   "cell_type": "code",
   "execution_count": 18,
   "metadata": {},
   "outputs": [
    {
     "name": "stdout",
     "output_type": "stream",
     "text": [
      "  1.748317 seconds (4.09 M allocations: 966.263 MiB, 4.64% gc time)\n"
     ]
    },
    {
     "data": {
      "text/plain": [
       "(332.3017635736973, [2.779662439085016, 1.56656526380548, 0.4348506362471559, 0.22242373044882147], :MAXEVAL_REACHED)"
      ]
     },
     "execution_count": 18,
     "metadata": {},
     "output_type": "execute_result"
    }
   ],
   "source": [
    "opt = Opt(:GN_ESCH, 4)\n",
    "lower_bounds!(opt,[0.0,0.0,0.0,0.0])\n",
    "upper_bounds!(opt,[10.0,10.0,10.0,10.0])\n",
    "min_objective!(opt, obj_short.cost_function2)\n",
    "xtol_rel!(opt,1e-12)\n",
    "maxeval!(opt, 10000)\n",
    "@time (minf,minx,ret) = NLopt.optimize(opt,glo_init)"
   ]
  },
  {
   "cell_type": "markdown",
   "metadata": {},
   "source": [
    "Now local optimization algorithms are used to check the global ones, these use the local constraints, different intial values and time step"
   ]
  },
  {
   "cell_type": "code",
   "execution_count": 19,
   "metadata": {},
   "outputs": [
    {
     "name": "stdout",
     "output_type": "stream",
     "text": [
      "  0.076711 seconds (149.68 k allocations: 34.355 MiB, 9.78% gc time)\n"
     ]
    },
    {
     "data": {
      "text/plain": [
       "(1.666092563977136e-16, [1.5000000000701428, 1.0000000000847955, 2.9999999995083857, 0.9999999999254293], :XTOL_REACHED)"
      ]
     },
     "execution_count": 19,
     "metadata": {},
     "output_type": "execute_result"
    }
   ],
   "source": [
    "opt = Opt(:LN_BOBYQA, 4)\n",
    "lower_bounds!(opt,[0.0,0.0,0.0,0.0])\n",
    "upper_bounds!(opt,[5.0,5.0,5.0,5.0])\n",
    "min_objective!(opt, obj_short.cost_function2)\n",
    "xtol_rel!(opt,1e-12)\n",
    "maxeval!(opt, 10000)\n",
    "@time (minf,minx,ret) = NLopt.optimize(opt,loc_init)"
   ]
  },
  {
   "cell_type": "code",
   "execution_count": 20,
   "metadata": {},
   "outputs": [
    {
     "name": "stdout",
     "output_type": "stream",
     "text": [
      "  0.095122 seconds (205.96 k allocations: 48.468 MiB, 7.59% gc time)\n"
     ]
    },
    {
     "data": {
      "text/plain": [
       "(1.6660944511624276e-16, [1.5000000000705116, 1.0000000000852818, 2.999999999507228, 0.9999999999250377], :XTOL_REACHED)"
      ]
     },
     "execution_count": 20,
     "metadata": {},
     "output_type": "execute_result"
    }
   ],
   "source": [
    "opt = Opt(:LN_NELDERMEAD, 4)\n",
    "lower_bounds!(opt,[0.0,0.0,0.0,0.0])\n",
    "upper_bounds!(opt,[5.0,5.0,5.0,5.0])\n",
    "min_objective!(opt, obj_short.cost_function2)\n",
    "xtol_rel!(opt,1e-12)\n",
    "maxeval!(opt, 10000)\n",
    "@time (minf,minx,ret) = NLopt.optimize(opt,loc_init)"
   ]
  },
  {
   "cell_type": "code",
   "execution_count": 21,
   "metadata": {},
   "outputs": [
    {
     "name": "stdout",
     "output_type": "stream",
     "text": [
      "  0.075775 seconds (215.05 k allocations: 31.682 MiB)\n"
     ]
    },
    {
     "data": {
      "text/plain": [
       "(4.1924234229837273e-16, [1.499999999682718, 1.0000000001713023, 3.000000002088545, 1.0000000007284087], :XTOL_REACHED)"
      ]
     },
     "execution_count": 21,
     "metadata": {},
     "output_type": "execute_result"
    }
   ],
   "source": [
    "opt = Opt(:LD_SLSQP, 4)\n",
    "lower_bounds!(opt,[0.0,0.0,0.0,0.0])\n",
    "upper_bounds!(opt,[5.0,5.0,5.0,5.0])\n",
    "min_objective!(opt, obj_short.cost_function2)\n",
    "xtol_rel!(opt,1e-12)\n",
    "maxeval!(opt, 10000)\n",
    "@time (minf,minx,ret) = NLopt.optimize(opt,loc_init)"
   ]
  },
  {
   "cell_type": "code",
   "execution_count": 22,
   "metadata": {},
   "outputs": [
    {
     "name": "stdout",
     "output_type": "stream",
     "text": [
      "  1.737074 seconds (4.09 M allocations: 966.263 MiB, 4.85% gc time)\n"
     ]
    },
    {
     "data": {
      "text/plain": [
       "(2.9425218477347897e-10, [1.4999993919433179, 0.999999828183019, 3.0000031388881534, 1.000000991049925], :MAXEVAL_REACHED)"
      ]
     },
     "execution_count": 22,
     "metadata": {},
     "output_type": "execute_result"
    }
   ],
   "source": [
    "opt = Opt(:LN_COBYLA, 4)\n",
    "lower_bounds!(opt,[0.0,0.0,0.0,0.0])\n",
    "upper_bounds!(opt,[5.0,5.0,5.0,5.0])\n",
    "min_objective!(opt, obj_short.cost_function2)\n",
    "xtol_rel!(opt,1e-12)\n",
    "maxeval!(opt, 10000)\n",
    "@time (minf,minx,ret) = NLopt.optimize(opt,loc_init)"
   ]
  },
  {
   "cell_type": "code",
   "execution_count": 23,
   "metadata": {},
   "outputs": [
    {
     "name": "stdout",
     "output_type": "stream",
     "text": [
      "  0.192064 seconds (171.38 k allocations: 40.487 MiB)\n"
     ]
    },
    {
     "data": {
      "text/plain": [
       "(3.981047760797371e-9, [1.4999997334324482, 0.9999983950625567, 2.9999986492377673, 0.9999999903184932], :SUCCESS)"
      ]
     },
     "execution_count": 23,
     "metadata": {},
     "output_type": "execute_result"
    }
   ],
   "source": [
    "opt = Opt(:LN_NEWUOA_BOUND, 4)\n",
    "lower_bounds!(opt,[0.0,0.0,0.0,0.0])\n",
    "upper_bounds!(opt,[5.0,5.0,5.0,5.0])\n",
    "min_objective!(opt, obj_short.cost_function2)\n",
    "xtol_rel!(opt,1e-12)\n",
    "maxeval!(opt, 10000)\n",
    "@time (minf,minx,ret) = NLopt.optimize(opt,loc_init)"
   ]
  },
  {
   "cell_type": "code",
   "execution_count": 24,
   "metadata": {},
   "outputs": [
    {
     "name": "stdout",
     "output_type": "stream",
     "text": [
      "  0.046016 seconds (87.95 k allocations: 20.775 MiB, 17.67% gc time)\n"
     ]
    },
    {
     "data": {
      "text/plain": [
       "(1.666352759770978e-16, [1.500000000065296, 1.0000000000836613, 2.999999999537112, 0.999999999933874], :SUCCESS)"
      ]
     },
     "execution_count": 24,
     "metadata": {},
     "output_type": "execute_result"
    }
   ],
   "source": [
    "opt = Opt(:LN_PRAXIS, 4)\n",
    "lower_bounds!(opt,[0.0,0.0,0.0,0.0])\n",
    "upper_bounds!(opt,[5.0,5.0,5.0,5.0])\n",
    "min_objective!(opt, obj_short.cost_function2)\n",
    "xtol_rel!(opt,1e-12)\n",
    "maxeval!(opt, 10000)\n",
    "@time (minf,minx,ret) = NLopt.optimize(opt,loc_init)"
   ]
  },
  {
   "cell_type": "code",
   "execution_count": 25,
   "metadata": {},
   "outputs": [
    {
     "name": "stdout",
     "output_type": "stream",
     "text": [
      "  1.728400 seconds (4.09 M allocations: 966.263 MiB, 4.32% gc time)\n"
     ]
    },
    {
     "data": {
      "text/plain": [
       "(3.857624483458146e-12, [1.4999999301104459, 0.9999999814386067, 3.000000353466034, 1.0000001103210938], :MAXEVAL_REACHED)"
      ]
     },
     "execution_count": 25,
     "metadata": {},
     "output_type": "execute_result"
    }
   ],
   "source": [
    "opt = Opt(:LN_SBPLX, 4)\n",
    "lower_bounds!(opt,[0.0,0.0,0.0,0.0])\n",
    "upper_bounds!(opt,[5.0,5.0,5.0,5.0])\n",
    "min_objective!(opt, obj_short.cost_function2)\n",
    "xtol_rel!(opt,1e-12)\n",
    "maxeval!(opt, 10000)\n",
    "@time (minf,minx,ret) = NLopt.optimize(opt,loc_init)"
   ]
  },
  {
   "cell_type": "code",
   "execution_count": 26,
   "metadata": {},
   "outputs": [
    {
     "name": "stdout",
     "output_type": "stream",
     "text": [
      "  3.581390 seconds (8.55 M allocations: 1.977 GiB, 4.41% gc time)\n"
     ]
    },
    {
     "data": {
      "text/plain": [
       "(3.3388978586808943e-15, [1.4999999981370287, 0.999999999704403, 3.0000000098642663, 1.0000000031859053], :XTOL_REACHED)"
      ]
     },
     "execution_count": 26,
     "metadata": {},
     "output_type": "execute_result"
    }
   ],
   "source": [
    "opt = Opt(:LD_MMA, 4)\n",
    "lower_bounds!(opt,[0.0,0.0,0.0,0.0])\n",
    "upper_bounds!(opt,[5.0,5.0,5.0,5.0])\n",
    "min_objective!(opt, obj_short.cost_function2)\n",
    "xtol_rel!(opt,1e-12)\n",
    "maxeval!(opt, 10000)\n",
    "@time (minf,minx,ret) = NLopt.optimize(opt,loc_init)"
   ]
  },
  {
   "cell_type": "code",
   "execution_count": 27,
   "metadata": {},
   "outputs": [
    {
     "name": "stdout",
     "output_type": "stream",
     "text": [
      "  0.065351 seconds (146.85 k allocations: 34.763 MiB, 9.31% gc time)\n"
     ]
    },
    {
     "data": {
      "text/plain": [
       "(4.192411353203476e-16, [1.4999999996827071, 1.0000000001712896, 3.0000000020885786, 1.0000000007284184], :SUCCESS)"
      ]
     },
     "execution_count": 27,
     "metadata": {},
     "output_type": "execute_result"
    }
   ],
   "source": [
    "opt = Opt(:LD_TNEWTON_PRECOND_RESTART, 4)\n",
    "lower_bounds!(opt,[0.0,0.0,0.0,0.0])\n",
    "upper_bounds!(opt,[5.0,5.0,5.0,5.0])\n",
    "min_objective!(opt, obj_short.cost_function2)\n",
    "xtol_rel!(opt,1e-12)\n",
    "maxeval!(opt, 10000)\n",
    "@time (minf,minx,ret) = NLopt.optimize(opt,loc_init)"
   ]
  },
  {
   "cell_type": "markdown",
   "metadata": {},
   "source": [
    "## Now the longer problem is solved for a global solution\n",
    "\n",
    "Vern9 solver with reltol=1e-9 and abstol=1e-9 is used and the dataset is increased to 3000 observations per variable with the same integration time step of 0.01."
   ]
  },
  {
   "cell_type": "code",
   "execution_count": 28,
   "metadata": {},
   "outputs": [
    {
     "name": "stdout",
     "output_type": "stream",
     "text": [
      "Starting optimization with optimizer DiffEvoOpt{FitPopulation{Float64},RadiusLimitedSelector,BlackBoxOptim.AdaptiveDiffEvoRandBin{3},RandomBound{ContinuousRectSearchSpace}}\n",
      "0.00 secs, 0 evals, 0 steps\n",
      "0.50 secs, 299 evals, 210 steps, improv/step: 0.386 (last = 0.3857), fitness=22321.237247745\n",
      "1.00 secs, 598 evals, 492 steps, improv/step: 0.309 (last = 0.2518), fitness=22321.237247745\n",
      "1.51 secs, 901 evals, 786 steps, improv/step: 0.270 (last = 0.2041), fitness=22321.237247745\n",
      "2.01 secs, 1202 evals, 1082 steps, improv/step: 0.238 (last = 0.1520), fitness=22321.237247745\n",
      "2.51 secs, 1488 evals, 1358 steps, improv/step: 0.211 (last = 0.1051), fitness=16765.309913385\n",
      "3.01 secs, 1782 evals, 1642 steps, improv/step: 0.195 (last = 0.1232), fitness=16765.309913385\n",
      "3.51 secs, 2072 evals, 1927 steps, improv/step: 0.181 (last = 0.0947), fitness=16765.309913385\n",
      "4.01 secs, 2369 evals, 2223 steps, improv/step: 0.170 (last = 0.0980), fitness=15717.211960106\n",
      "4.51 secs, 2651 evals, 2501 steps, improv/step: 0.158 (last = 0.0647), fitness=15717.211960106\n",
      "5.01 secs, 2956 evals, 2799 steps, improv/step: 0.146 (last = 0.0503), fitness=15717.211960106\n",
      "5.52 secs, 3257 evals, 3095 steps, improv/step: 0.140 (last = 0.0743), fitness=14534.911503410\n",
      "6.02 secs, 3561 evals, 3398 steps, improv/step: 0.132 (last = 0.0594), fitness=11819.009327591\n",
      "6.52 secs, 3860 evals, 3697 steps, improv/step: 0.126 (last = 0.0468), fitness=11819.009327591\n",
      "\n",
      "Optimization stopped after 4001 steps and 7.02 seconds\n",
      "Termination reason: Max number of steps (4000) reached\n",
      "Steps per second = 570.11\n",
      "Function evals per second = 593.33\n",
      "Improvements/step = 0.11925\n",
      "Total function evaluations = 4164\n",
      "\n",
      "\n",
      "Best candidate found: [5.48269, 6.15849, 0.749114, 0.278442]\n",
      "\n",
      "Fitness: 11436.342463255\n",
      "\n"
     ]
    },
    {
     "data": {
      "text/plain": [
       "BlackBoxOptim.OptimizationResults(\"adaptive_de_rand_1_bin_radiuslimited\", \"Max number of steps (4000) reached\", 4001, 1.584806592291e9, 7.01800012588501, DictChain{Symbol,Any}[DictChain{Symbol,Any}[Dict{Symbol,Any}(:RngSeed => 347492,:SearchRange => Tuple{Float64,Float64}[(0.0, 10.0), (0.0, 10.0), (0.0, 10.0), (0.0, 10.0)],:MaxSteps => 4000),Dict{Symbol,Any}()],Dict{Symbol,Any}(:FitnessScheme => ScalarFitnessScheme{true}(),:NumDimensions => :NotSpecified,:PopulationSize => 50,:MaxTime => 0.0,:SearchRange => (-1.0, 1.0),:Method => :adaptive_de_rand_1_bin_radiuslimited,:MaxNumStepsWithoutFuncEvals => 100,:RngSeed => 1234,:MaxFuncEvals => 0,:SaveTrace => false…)], 4164, ScalarFitnessScheme{true}(), BlackBoxOptim.TopListArchiveOutput{Float64,Array{Float64,1}}(11436.34246325503, [5.482690199264583, 6.1584857475691095, 0.7491138387680273, 0.2784417016751761]), BlackBoxOptim.PopulationOptimizerOutput{FitPopulation{Float64}}(FitPopulation{Float64}([9.862809028426062 8.383181783146282 … 9.215758081355302 9.529802450678936; 9.96920361698263 7.777502903646949 … 7.803823195211566 9.891910125022614; 3.3299382182964634 0.3184262816259697 … 1.7050276631237111 3.46287623422883; 1.643149293414261 0.18153995556140456 … 0.8098494516303627 1.6166146487293738], NaN, [22976.574864577626, 22828.727084696715, 23865.556362566447, 22247.228284733574, 21964.62838778668, 23677.61953741161, 19318.480353734747, 23907.100824572895, 23017.444688543612, 23139.743743003615  …  22934.13624192394, 23254.40064196776, 23148.912043672746, 22910.940466548484, 21922.30990400164, 22975.903955114933, 23096.179812007213, 23103.90353180915, 21073.100421692077, 22948.05309614662], 0, BlackBoxOptim.Candidate{Float64}[BlackBoxOptim.Candidate{Float64}([9.425543027775227, 9.118391551756117, 3.466902962732111, 1.6730106186349147], 44, 22910.940466548484, BlackBoxOptim.AdaptiveDiffEvoRandBin{3}(BlackBoxOptim.AdaptiveDiffEvoParameters(BlackBoxOptim.BimodalCauchy(Distributions.Cauchy{Float64}(μ=0.65, σ=0.1), Distributions.Cauchy{Float64}(μ=1.0, σ=0.1), 0.5, false, true), BlackBoxOptim.BimodalCauchy(Distributions.Cauchy{Float64}(μ=0.1, σ=0.1), Distributions.Cauchy{Float64}(μ=0.95, σ=0.1), 0.5, false, true), [0.5524362831087696, 1.0, 0.8263726929448055, 1.0, 0.5721233993335441, 0.41956687223254596, 0.8247819819237393, 1.0, 1.0, 0.0030360945043232945  …  0.6674552978870472, 1.0, 0.5398939890085018, 1.0, 0.971417587885199, 1.0, 0.6090450257750811, 1.0, 0.5967328843395149, 0.6598670443093742], [0.12199524122038377, 0.0014751376443368491, 0.1492751041857608, 0.3107771255348254, 1.0, 1.0, 0.5511372939236713, 0.13414251564103782, 0.07440286303742849, 1.0  …  1.0, 1.0, 0.5748208616294035, 0.050080148762972745, 0.542231250618943, 0.8790078226011694, 1.0, 0.9046890982596042, 0.08934931407082389, 0.590830755610018])), 0), BlackBoxOptim.Candidate{Float64}([8.881729548918479, 7.836907635863964, 1.8765476626560977, 0.9289563106226923], 44, 24067.687163934832, BlackBoxOptim.AdaptiveDiffEvoRandBin{3}(BlackBoxOptim.AdaptiveDiffEvoParameters(BlackBoxOptim.BimodalCauchy(Distributions.Cauchy{Float64}(μ=0.65, σ=0.1), Distributions.Cauchy{Float64}(μ=1.0, σ=0.1), 0.5, false, true), BlackBoxOptim.BimodalCauchy(Distributions.Cauchy{Float64}(μ=0.1, σ=0.1), Distributions.Cauchy{Float64}(μ=0.95, σ=0.1), 0.5, false, true), [0.5524362831087696, 1.0, 0.8263726929448055, 1.0, 0.5721233993335441, 0.41956687223254596, 0.8247819819237393, 1.0, 1.0, 0.0030360945043232945  …  0.6674552978870472, 1.0, 0.5398939890085018, 1.0, 0.971417587885199, 1.0, 0.6090450257750811, 1.0, 0.5967328843395149, 0.6598670443093742], [0.12199524122038377, 0.0014751376443368491, 0.1492751041857608, 0.3107771255348254, 1.0, 1.0, 0.5511372939236713, 0.13414251564103782, 0.07440286303742849, 1.0  …  1.0, 1.0, 0.5748208616294035, 0.050080148762972745, 0.542231250618943, 0.8790078226011694, 1.0, 0.9046890982596042, 0.08934931407082389, 0.590830755610018])), 0)])))"
      ]
     },
     "execution_count": 28,
     "metadata": {},
     "output_type": "execute_result"
    }
   ],
   "source": [
    "obj = build_loss_objective(prob,Vern9(),L2Loss(t,data),tstops=t,reltol=1e-9,abstol=1e-9)\n",
    "res1 = bboptimize(obj;SearchRange = glo_bounds, MaxSteps = 4e3)"
   ]
  },
  {
   "cell_type": "code",
   "execution_count": null,
   "metadata": {},
   "outputs": [],
   "source": [
    "opt = Opt(:GN_ORIG_DIRECT_L, 4)\n",
    "lower_bounds!(opt,[0.0,0.0,0.0,0.0])\n",
    "upper_bounds!(opt,[10.0,10.0,10.0,10.0])\n",
    "min_objective!(opt, obj.cost_function2)\n",
    "xtol_rel!(opt,1e-12)\n",
    "maxeval!(opt, 10000)\n",
    "@time (minf,minx,ret) = NLopt.optimize(opt,glo_init)"
   ]
  },
  {
   "cell_type": "code",
   "execution_count": null,
   "metadata": {},
   "outputs": [],
   "source": [
    "opt = Opt(:GN_CRS2_LM, 4)\n",
    "lower_bounds!(opt,[0.0,0.0,0.0,0.0])\n",
    "upper_bounds!(opt,[10.0,10.0,10.0,10.0])\n",
    "min_objective!(opt, obj.cost_function2)\n",
    "xtol_rel!(opt,1e-12)\n",
    "maxeval!(opt, 20000)\n",
    "@time (minf,minx,ret) = NLopt.optimize(opt,glo_init)"
   ]
  },
  {
   "cell_type": "code",
   "execution_count": null,
   "metadata": {},
   "outputs": [],
   "source": [
    "opt = Opt(:GN_ISRES, 4)\n",
    "lower_bounds!(opt,[0.0,0.0,0.0,0.0])\n",
    "upper_bounds!(opt,[10.0,10.0,10.0,10.0])\n",
    "min_objective!(opt, obj.cost_function2)\n",
    "xtol_rel!(opt,1e-12)\n",
    "maxeval!(opt, 50000)\n",
    "@time (minf,minx,ret) = NLopt.optimize(opt,glo_init)"
   ]
  },
  {
   "cell_type": "code",
   "execution_count": null,
   "metadata": {},
   "outputs": [],
   "source": [
    "opt = Opt(:GN_ESCH, 4)\n",
    "lower_bounds!(opt,[0.0,0.0,0.0,0.0])\n",
    "upper_bounds!(opt,[10.0,10.0,10.0,10.0])\n",
    "min_objective!(opt, obj.cost_function2)\n",
    "xtol_rel!(opt,1e-12)\n",
    "maxeval!(opt, 20000)\n",
    "@time (minf,minx,ret) = NLopt.optimize(opt,glo_init)"
   ]
  },
  {
   "cell_type": "code",
   "execution_count": null,
   "metadata": {},
   "outputs": [],
   "source": [
    "opt = Opt(:LN_BOBYQA, 4)\n",
    "lower_bounds!(opt,[0.0,0.0,0.0,0.0])\n",
    "upper_bounds!(opt,[5.0,5.0,5.0,5.0])\n",
    "min_objective!(opt, obj.cost_function2)\n",
    "xtol_rel!(opt,1e-12)\n",
    "maxeval!(opt, 10000)\n",
    "@time (minf,minx,ret) = NLopt.optimize(opt,loc_init)"
   ]
  },
  {
   "cell_type": "code",
   "execution_count": null,
   "metadata": {},
   "outputs": [],
   "source": [
    "opt = Opt(:LN_NELDERMEAD, 4)\n",
    "lower_bounds!(opt,[0.0,0.0,0.0,0.0])\n",
    "upper_bounds!(opt,[5.0,5.0,5.0,5.0])\n",
    "min_objective!(opt, obj.cost_function2)\n",
    "xtol_rel!(opt,1e-9)\n",
    "maxeval!(opt, 10000)\n",
    "@time (minf,minx,ret) = NLopt.optimize(opt,loc_init)"
   ]
  },
  {
   "cell_type": "code",
   "execution_count": null,
   "metadata": {},
   "outputs": [],
   "source": [
    "opt = Opt(:LD_SLSQP, 4)\n",
    "lower_bounds!(opt,[0.0,0.0,0.0,0.0])\n",
    "upper_bounds!(opt,[5.0,5.0,5.0,5.0])\n",
    "min_objective!(opt, obj.cost_function2)\n",
    "xtol_rel!(opt,1e-12)\n",
    "maxeval!(opt, 10000)\n",
    "@time (minf,minx,ret) = NLopt.optimize(opt,loc_init)"
   ]
  },
  {
   "cell_type": "markdown",
   "metadata": {},
   "source": [
    "#### Using QuadDIRECT"
   ]
  },
  {
   "cell_type": "code",
   "execution_count": null,
   "metadata": {},
   "outputs": [],
   "source": [
    "obj_short = build_loss_objective(prob_short,Tsit5(),L2Loss(t_short,data_short),tstops=t_short)\n",
    "lower = [0.0,0.0,0.0,0.0]\n",
    "upper = [5.0,5.0,5.0,5.0]\n",
    "splits = ([0.0,1.0,3.0],[0.0,1.0,3.0],[0.0,1.0,3.0],[0.0,1.0,3.0])\n",
    "root, x0 = analyze(obj_short,splits,lower,upper)"
   ]
  },
  {
   "cell_type": "code",
   "execution_count": null,
   "metadata": {},
   "outputs": [],
   "source": [
    "minimum(root)"
   ]
  },
  {
   "cell_type": "code",
   "execution_count": null,
   "metadata": {},
   "outputs": [],
   "source": [
    "obj = build_loss_objective(prob,Vern9(),L2Loss(t,data),tstops=t,reltol=1e-9,abstol=1e-9)\n",
    "lower = [0.0,0.0,0.0,0.0]\n",
    "upper = [10.0,10.0,10.0,10.0]\n",
    "splits = ([0.0,3.0,6.0],[0.0,3.0,6.0],[0.0,3.0,6.0],[0.0,3.0,6.0])\n",
    "root, x0 = analyze(obj,splits,lower,upper)"
   ]
  },
  {
   "cell_type": "code",
   "execution_count": null,
   "metadata": {},
   "outputs": [],
   "source": [
    "minimum(root)"
   ]
  },
  {
   "cell_type": "markdown",
   "metadata": {},
   "source": [
    "#### Parameter estimation on the longer sample proves to be extremely challenging for some of the global optimizers. A few give the accurate values, BlacBoxOptim also performs quite well while others seem to struggle with accuracy a lot.\n",
    "\n",
    "# Conclusion\n",
    "\n",
    "In general we observe that lower tolerance lead to higher accuracy but too low tolerance could affect the convergance time drastically. Also fitting a shorter timespan seems to be easier in comparision (quite intutively). NLOpt methods seem to give great accuracy in the shorter problem with a lot of the algorithms giving 0 fitness, BBO performs very well on it with marginal change with `tol` values. In case of global optimization of the longer problem  there is some difference in the perfomance amongst the algorithms with `LD_SLSQP` `GN_ESCH` `GN_ISRES` `GN_ORIG_DIRECT_L` performing among the worse, BBO also gives a bit high fitness in comparison. QuadDIRECT gives accurate results in the case of the shorter problem but doesn't perform very well in the longer problem case."
   ]
  },
  {
   "cell_type": "code",
   "execution_count": null,
   "metadata": {},
   "outputs": [],
   "source": []
  }
 ],
 "metadata": {
  "kernelspec": {
   "display_name": "Julia 1.3.1",
   "language": "julia",
   "name": "julia-1.3"
  },
  "language_info": {
   "file_extension": ".jl",
   "mimetype": "application/julia",
   "name": "julia",
   "version": "1.3.1"
  }
 },
 "nbformat": 4,
 "nbformat_minor": 2
}
