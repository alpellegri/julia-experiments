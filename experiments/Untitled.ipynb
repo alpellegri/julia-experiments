{
 "cells": [
  {
   "cell_type": "code",
   "execution_count": 3,
   "metadata": {
    "collapsed": false
   },
   "outputs": [
    {
     "name": "stderr",
     "output_type": "stream",
     "text": [
      "\u001b[1m\u001b[34mINFO: Precompiling module RecipesBase.\n",
      "\u001b[0m\u001b[1m\u001b[34mINFO: Precompiling module PlotUtils.\n",
      "\u001b[0m\u001b[1m\u001b[34mINFO: Precompiling module PlotThemes.\n",
      "\u001b[0mWARNING: ImageMetadata.AbstractImage is deprecated"
     ]
    },
    {
     "ename": "LoadError",
     "evalue": "UndefVarError: post_empty not defined",
     "output_type": "error",
     "traceback": [
      "UndefVarError: post_empty not defined",
      "",
      " in _display(::Plots.Plot{Plots.GLVisualizeBackend}, ::Bool) at C:\\Users\\alessio\\.julia\\v0.5\\Plots\\src\\backends\\glvisualize.jl:1185",
      " in gui(::Plots.Plot{Plots.GLVisualizeBackend}) at C:\\Users\\alessio\\.julia\\v0.5\\Plots\\src\\output.jl:123 (repeats 2 times)"
     ]
    },
    {
     "name": "stderr",
     "output_type": "stream",
     "text": [
      ", use ImageMetadata.ImageMeta instead.\n",
      "  likely near In[3]:70\n",
      "WARNING: ImageMetadata.AbstractImage is deprecated, use ImageMetadata.ImageMeta instead.\n",
      "  likely near In[3]:72\n"
     ]
    }
   ],
   "source": [
    "using Images, GeometryTypes, GLVisualize, Reactive, GLWindow, Colors\n",
    "using FixedSizeArrays, GLAbstraction, GLFW\n",
    "import GLAbstraction: imagespace, singlepressed\n",
    "import GLVisualize: moving_average\n",
    "\n",
    "if !isdefined(:runtests)\n",
    "    window = glscreen()\n",
    "end\n",
    "\n",
    "color_a = Signal(RGBA{Float32}(1,0,0,1))\n",
    "iconsize = 54\n",
    "color_v, color_s = widget(color_a, window, area=(iconsize, iconsize))\n",
    "edit_screen = Screen(window, area = map(window.area) do a\n",
    "    SimpleRectangle(0, 0, a.w, iconsize)\n",
    "end)\n",
    "paint_screen = Screen(window, area = map(window.area) do a\n",
    "    SimpleRectangle(0, iconsize, a.w, a.h-iconsize)\n",
    "end)\n",
    "GLVisualize.add_screen(paint_screen)\n",
    "\n",
    "using Plots; glvisualize(size = widths(paint_screen))\n",
    "\n",
    "plt = plot(rand(100));\n",
    "gui() # tell Plots.jl to plot this in a window\n",
    "\n",
    "# Plots creates subscreens in which it plots.\n",
    "# We need to recover that screen\n",
    "paint_screen = plt.o.children[1]\n",
    "\n",
    "# create a clear canvas button (unchecked seems vaguely like a good symbol for an empty canvas)\n",
    "buttobj, button_s = GLVisualize.button(loadasset(\"unchecked.png\"), edit_screen)\n",
    "\n",
    "# create a slider for the linewidth\n",
    "slider_w, slider_s = GLVisualize.slider(\n",
    "    linspace(0.5f0, 20f0, 100), edit_screen,\n",
    "    thickness = 2f0,\n",
    "    slider_length = 4 * iconsize,\n",
    "    icon_size = Signal(iconsize)\n",
    ")\n",
    "\n",
    "# view and position them with layout!\n",
    "_view(\n",
    "    layout!(SimpleRectangle{Float32}(0, 0, iconsize, iconsize), color_v),\n",
    "    edit_screen, camera=:fixed_pixel\n",
    ")\n",
    "_view(\n",
    "    layout!(SimpleRectangle{Float32}(iconsize+2, 0, iconsize, iconsize), buttobj),\n",
    "    edit_screen, camera=:fixed_pixel\n",
    ")\n",
    "# translate slider\n",
    "set_arg!(slider_w, :model, translationmatrix(Vec3f0(iconsize*2+4, 0, 0)))\n",
    "\n",
    "_view(\n",
    "    slider_w,\n",
    "    edit_screen, camera=:fixed_pixel\n",
    ")\n",
    "\n",
    "const linebuffer = Signal(fill(Point2f0(NaN), 4))\n",
    "const colorbuffer = Signal(fill(value(color_s), 4))\n",
    "const lineobj = visualize(\n",
    "    linebuffer, :lines, color = colorbuffer,\n",
    "    thickness = slider_s\n",
    ")\n",
    "_view(lineobj, paint_screen, camera=:perspective)\n",
    "\n",
    "@materialize mouseposition, mouse_buttons_pressed, mouseinside = paint_screen.inputs\n",
    "\n",
    "camera = paint_screen.cameras[:perspective]\n",
    "\n",
    "const history = Point2f0[] # preallocate history for moving average\n",
    "\n",
    "s = map(mouseposition, mouse_buttons_pressed, init=nothing) do mp, mbp\n",
    "    l0, c0 = map(value, (linebuffer, colorbuffer))\n",
    "    if singlepressed(mbp, GLFW.MOUSE_BUTTON_LEFT) && value(mouseinside)\n",
    "        p = imagespace(mp, camera)\n",
    "        keep, p = moving_average(p, 1.5f0, history)\n",
    "        if keep\n",
    "            push!(linebuffer, push!(l0, p))\n",
    "            push!(colorbuffer, push!(c0, value(color_s)))\n",
    "        end\n",
    "    else\n",
    "        if !isnan(last(l0)) # only push one NaN to seperate\n",
    "            empty!(history) # reset\n",
    "            push!(linebuffer, push!(l0, Point2f0(NaN)))\n",
    "            push!(colorbuffer, push!(c0, value(color_s)))\n",
    "        end\n",
    "    end\n",
    "    nothing\n",
    "end\n",
    "# preserve signals, so that it doesn't get garbage collected.\n",
    "preserve(s)\n",
    "\n",
    "# reset buffers\n",
    "s2 = map(button_s) do clicked\n",
    "    if clicked\n",
    "        push!(linebuffer, fill(Point2f0(NaN), 4))\n",
    "        push!(colorbuffer, fill(value(color_s), 4))\n",
    "    end\n",
    "    nothing\n",
    "end\n",
    "preserve(s2)\n",
    "\n",
    "if !isdefined(:runtests)\n",
    "    renderloop(window)\n",
    "end"
   ]
  },
  {
   "cell_type": "code",
   "execution_count": 2,
   "metadata": {
    "collapsed": false
   },
   "outputs": [
    {
     "name": "stderr",
     "output_type": "stream",
     "text": [
      "\u001b[1m\u001b[34mINFO: Updating cache of Plots...\n",
      "\u001b[0m\u001b[1m\u001b[34mINFO: Cloning cache of RecipesBase from https://github.com/JuliaPlots/RecipesBase.jl.git\n",
      "\u001b[0m\u001b[1m\u001b[34mINFO: Downgrading ColorTypes: v0.3.5 => v0.2.12\n",
      "\u001b[0m\u001b[1m\u001b[34mINFO: Downgrading ColorVectorSpace: v0.4.0 => v0.1.12\n",
      "\u001b[0m\u001b[1m\u001b[34mINFO: Downgrading Colors: v0.7.3 => v0.6.9\n",
      "\u001b[0m\u001b[1m\u001b[34mINFO: Downgrading FixedPointNumbers: v0.3.5 => v0.2.1\n",
      "\u001b[0m\u001b[1m\u001b[34mINFO: Downgrading Images: v0.8.0 => v0.5.14\n",
      "\u001b[0m\u001b[1m\u001b[34mINFO: Installing PlotThemes v0.1.1\n",
      "\u001b[0m\u001b[1m\u001b[34mINFO: Installing PlotUtils v0.3.0\n",
      "\u001b[0m\u001b[1m\u001b[34mINFO: Installing Plots v0.10.3\n",
      "\u001b[0m\u001b[1m\u001b[34mINFO: Installing RecipesBase v0.1.0\n",
      "\u001b[0m\u001b[1m\u001b[34mINFO: Installing Zlib v0.1.12\n",
      "\u001b[0m\u001b[1m\u001b[34mINFO: Removing AxisArrays v0.0.6\n",
      "\u001b[0m\u001b[1m\u001b[34mINFO: Removing CatIndices v0.0.2\n",
      "\u001b[0m\u001b[1m\u001b[34mINFO: Removing ComputationalResources v0.0.2\n",
      "\u001b[0m\u001b[1m\u001b[34mINFO: Removing CoordinateTransformations v0.4.0\n",
      "\u001b[0m\u001b[1m\u001b[34mINFO: Removing CustomUnitRanges v0.0.4\n",
      "\u001b[0m\u001b[1m\u001b[34mINFO: Removing FFTViews v0.0.2\n",
      "\u001b[0m\u001b[1m\u001b[34mINFO: Removing ImageAxes v0.1.1\n",
      "\u001b[0m\u001b[1m\u001b[34mINFO: Removing ImageCore v0.1.5\n",
      "\u001b[0m\u001b[1m\u001b[34mINFO: Removing ImageFiltering v0.1.2\n",
      "\u001b[0m\u001b[1m\u001b[34mINFO: Removing ImageMagick v0.2.2\n",
      "\u001b[0m\u001b[1m\u001b[34mINFO: Removing ImageMetadata v0.2.1\n",
      "\u001b[0m\u001b[1m\u001b[34mINFO: Removing ImageTransformations v0.1.0\n",
      "\u001b[0m\u001b[1m\u001b[34mINFO: Removing IndirectArrays v0.1.1\n",
      "\u001b[0m\u001b[1m\u001b[34mINFO: Removing IntervalSets v0.0.4\n",
      "\u001b[0m\u001b[1m\u001b[34mINFO: Removing MappedArrays v0.0.7\n",
      "\u001b[0m\u001b[1m\u001b[34mINFO: Removing OffsetArrays v0.2.14\n",
      "\u001b[0m\u001b[1m\u001b[34mINFO: Removing RangeArrays v0.1.2\n",
      "\u001b[0m\u001b[1m\u001b[34mINFO: Removing Rotations v0.3.5\n",
      "\u001b[0m\u001b[1m\u001b[34mINFO: Removing ShowItLikeYouBuildIt v0.0.1\n",
      "\u001b[0m\u001b[1m\u001b[34mINFO: Removing SimpleTraits v0.3.1\n",
      "\u001b[0m\u001b[1m\u001b[34mINFO: Removing StaticArrays v0.3.0\n",
      "\u001b[0m\u001b[1m\u001b[34mINFO: Removing TiledIteration v0.0.2\n",
      "\u001b[0m\u001b[1m\u001b[31mWARNING: The following packages have been updated but were already imported:\n",
      "- ColorTypes\n",
      "- ColorVectorSpace\n",
      "- Colors\n",
      "- FixedPointNumbers\n",
      "- Images\n",
      "Restart Julia to use the updated versions.\u001b[0m\n",
      "\u001b[1m\u001b[34mINFO: Building Plots\n",
      "\u001b[0m\u001b[1m\u001b[34mINFO: Cannot find deps/plotly-latest.min.js... downloading latest version.\n",
      "\u001b[0m\u001b[1m\u001b[34mINFO: Package database updated\n",
      "\u001b[0m"
     ]
    }
   ],
   "source": [
    "Pkg.add(\"Plots\")"
   ]
  },
  {
   "cell_type": "code",
   "execution_count": null,
   "metadata": {
    "collapsed": true
   },
   "outputs": [],
   "source": []
  }
 ],
 "metadata": {
  "kernelspec": {
   "display_name": "Julia 0.5.1",
   "language": "julia",
   "name": "julia-0.5"
  },
  "language_info": {
   "file_extension": ".jl",
   "mimetype": "application/julia",
   "name": "julia",
   "version": "0.5.1"
  }
 },
 "nbformat": 4,
 "nbformat_minor": 2
}
